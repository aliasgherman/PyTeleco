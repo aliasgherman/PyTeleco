{
 "cells": [
  {
   "cell_type": "markdown",
   "metadata": {},
   "source": [
    "## Collection of simple python snippets used for Telecom related dataset analysis\n",
    "\n",
    "\n",
    "### Snippet Number 01 - Start\n",
    "\n",
    "* Loading a file as a pandas dataframe\n",
    "\n",
    "* The function will try to take care of csv / excel / text file loading. Helps if you have to always change the command from pd.read_csv to read_excel when you want to use the same scripts for different files\n",
    "\n",
    "Any feedback or your own snippets are welcome\n",
    "- **aliasgherman@gmail.com**\n",
    "- **https://www.linkedin.com/in/ali-asgher-mansoor-habiby-05b784a/**"
   ]
  },
  {
   "cell_type": "code",
   "execution_count": 1,
   "metadata": {},
   "outputs": [],
   "source": [
    "import pandas as pd # If it ain't pandas, then it shouldn't be python\n",
    "import os\n",
    "\n",
    "def read_file(filename, delimiter=None, skiprows=None, low_memory=False):\n",
    "    \"\"\"\n",
    "    Convenience function to read a file into as Pandas DataFrame. Will try to use the read_csv or read_excel functions\n",
    "    based on the file found. Will also raise exceptions in a nice manner without stopping code flow. Important for \n",
    "    automatic scripts which should continue working with other files in case of some exceptions in previous files.\n",
    "    :param filename: Full path of the filename (Or relative path to the script)\n",
    "    :param delimiter: If a custom delimiter like ';' or '|' is needed then set this option\n",
    "    :param skiprows: If you want to skip certain number of rows then set this\n",
    "    :param skiprows: If you want to skip certain number of columns then set this\n",
    "    :param low_memory: Prefer to set it to False for Telecom data (like Cell/Site/Links/MME/MSC level files)\n",
    "    :return: Pandas Dataframe\n",
    "    \"\"\"\n",
    "    try:  # Catch exceptions as path may be NoneType or other dummies\n",
    "        if not os.path.isfile(filename):\n",
    "            print(\"The requested file is not found. {}\".format(filename))\n",
    "        else:\n",
    "            if filename[-4:].lower() == \".csv\" or filename[-4:].lower() == \".txt\":\n",
    "                return pd.read_csv(filepath_or_buffer=filename, \n",
    "                                   delimiter=delimiter, \n",
    "                                   skiprows=skiprows,\n",
    "                                  low_memory=low_memory)\n",
    "            elif filename[-4:].lower() == \".xls\" or filename[-5:].lower() == \".xlsx\":\n",
    "                return pd.read_excel(filename, \n",
    "                                     skiprows=skiprows)\n",
    "            else:\n",
    "                print(\"Only csv + text files and excel files are implemented.\")\n",
    "                raise NotImplementedError\n",
    "    except Exception as broad_exception:\n",
    "        print(\"An exception occurred in the procedure.\"\n",
    "              \"\\r\\nException {}\".format(broad_exception))\n",
    "        return None"
   ]
  },
  {
   "cell_type": "markdown",
   "metadata": {},
   "source": [
    "#### Usage (Read a csv or excel file). Same syntax"
   ]
  },
  {
   "cell_type": "code",
   "execution_count": 7,
   "metadata": {},
   "outputs": [],
   "source": [
    "df = read_file(\"data/sample_input_file.csv\")"
   ]
  },
  {
   "cell_type": "code",
   "execution_count": 8,
   "metadata": {},
   "outputs": [],
   "source": [
    "df = read_file(\"data/sample_input_file.xlsx\", skiprows=1) #just skipping a row for fun (no headers now)"
   ]
  },
  {
   "cell_type": "markdown",
   "metadata": {},
   "source": [
    "### Snippet Number 1 - End"
   ]
  }
 ],
 "metadata": {
  "kernelspec": {
   "display_name": "Python 3",
   "language": "python",
   "name": "python3"
  },
  "language_info": {
   "codemirror_mode": {
    "name": "ipython",
    "version": 3
   },
   "file_extension": ".py",
   "mimetype": "text/x-python",
   "name": "python",
   "nbconvert_exporter": "python",
   "pygments_lexer": "ipython3",
   "version": "3.7.4"
  },
  "toc": {
   "base_numbering": 1,
   "nav_menu": {},
   "number_sections": true,
   "sideBar": true,
   "skip_h1_title": false,
   "title_cell": "Table of Contents",
   "title_sidebar": "Contents",
   "toc_cell": false,
   "toc_position": {},
   "toc_section_display": true,
   "toc_window_display": true
  }
 },
 "nbformat": 4,
 "nbformat_minor": 2
}
