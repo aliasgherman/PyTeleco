{
 "cells": [
  {
   "cell_type": "markdown",
   "metadata": {},
   "source": [
    "## Collection of simple python snippets used for Telecom related dataset analysis\n",
    "\n",
    "\n",
    "### Snippet Number 02 - Start\n",
    "\n",
    "* Cleaning up the Nulls\n",
    "\n",
    "For most of the Telecom related datasets (excel files, csv files, texts, exports etc.) there are a lot of different notations used by systems to indicate NULLs.\n",
    "\n",
    "**Huawei** may use the text **NIL**, Other vendors may use **NULL** or **/0**\n",
    "Then there are other artifacts due to Excel formulas such as **#VALUE!** errors etc.\n",
    "\n",
    "The problem is that for analysis using Pandas, if we have such values, then Pandas will not consider this column as a Numeric column. Cell/Site/MSC/MME level data is actually composed of mostly Numeric values only with exception of the MME/MSC/RNC names or Site names which are categorical.\n",
    "\n",
    "So we should try to remove all Knowns NULL values from the dataset and try to convert those columns to Numeric for a better data handling.\n",
    "\n",
    "Any feedback or your own snippets are welcome\n",
    "- **aliasgherman@gmail.com**\n",
    "- **https://www.linkedin.com/in/ali-asgher-mansoor-habiby-05b784a/**"
   ]
  },
  {
   "cell_type": "code",
   "execution_count": 1,
   "metadata": {},
   "outputs": [],
   "source": [
    "#################################################################################\n",
    "# If we find any below value in a row, we will convert it to np.nan \n",
    "# and then try to convert the whole column into a numeric pandas type.\n",
    "#################################################################################\n",
    "KNOWN_NA_VALS = ['NIL', 'NILL', 'NULL', 'NA', '#NA', '#N/A', \n",
    "                 'N/A','#VALUE!','#REF!','#DIV/0!','#NUM!',\n",
    "                 '#NAME?','#NULL!','NAN','nan','NaN', '#REF', \n",
    "                 '#DIV/0','#VALUE','#REF','#NUM', '#NULL']\n",
    "#################################################################################\n",
    "\n",
    "\n",
    "import pandas as pd\n",
    "import numpy as np\n",
    "\n",
    "def cleanup_nulls(dataframe):\n",
    "    \"\"\"\n",
    "    This function tries to substitute known NULL values and then tries to convert the columns into numeric types\n",
    "    :param df: DataFrame as input\n",
    "    :return: Cleaned dataframe as output\n",
    "    \"\"\"\n",
    "    df = dataframe.copy() # Make a copy to eliminate reference based issues\n",
    "    try:\n",
    "        print(\"*\" * 100)\n",
    "        print(\"Current data frame has got {} non-numeric/datetime columns\".format(\n",
    "                    len(df.select_dtypes(exclude=[\"number\", \"datetime\"]).columns)))\n",
    "        print(\"*\" * 100)\n",
    "        for x in df.select_dtypes(exclude=[\"number\", \"datetime\"]).columns:\n",
    "            if len(df[df[x].isin(KNOWN_NA_VALS)]) > 0: #some instances were found with Known NA substitutions\n",
    "                temp_col = df[x].copy() #Copy data else it would create references of df\n",
    "                temp_col[ temp_col.isin(KNOWN_NA_VALS)] = np.nan\n",
    "                try: #now we will try to see if the column can become numeric\n",
    "                    temp_col = pd.to_numeric(temp_col, errors='raise')\n",
    "                    df[x] = temp_col.copy()\n",
    "                    print(\"-\\tSuccess in converting {} into a numeric column\".format(x))\n",
    "                except ValueError as e:\n",
    "                    print(\"-\\tFailure in converting {} into a numeric column\".format(x))\n",
    "                    continue #Column cannot be converted to numeric. Just continue\n",
    "        print(\"*\" * 100)\n",
    "        print(\"After processing the data frame has got {} non-numeric/datetime columns\".format(\n",
    "                    len(df.select_dtypes(exclude=[\"number\", \"datetime\"]).columns)))\n",
    "        print(\"*\" * 100)\n",
    "        return df\n",
    "    except Exception as broad_exception:\n",
    "        print(\"An exception occurred in the process of cleanup. {}\".format(broad_exception))\n",
    "        return None\n"
   ]
  },
  {
   "cell_type": "markdown",
   "metadata": {},
   "source": [
    "#### Usage (Read a file then call cleanup_nulls function)"
   ]
  },
  {
   "cell_type": "code",
   "execution_count": 2,
   "metadata": {},
   "outputs": [],
   "source": [
    "df = pd.read_csv(\"data/sample_input_file.csv\", low_memory=False) #just skipping a row for fun (no headers now)"
   ]
  },
  {
   "cell_type": "code",
   "execution_count": 3,
   "metadata": {},
   "outputs": [
    {
     "name": "stdout",
     "output_type": "stream",
     "text": [
      "****************************************************************************************************\n",
      "Current data frame has got 10 non-numeric/datetime columns\n",
      "****************************************************************************************************\n",
      "-\tSuccess in converting DCR EUL into a numeric column\n",
      "-\tSuccess in converting FACH URA SR % into a numeric column\n",
      "-\tSuccess in converting R99 PS DCR into a numeric column\n",
      "-\tSuccess in converting Total HS Users (HS/R99 and HS/EUL) into a numeric column\n",
      "-\tSuccess in converting Avg. HS Users (HS/R99 and HS/EUL) into a numeric column\n",
      "****************************************************************************************************\n",
      "After processing the data frame has got 5 non-numeric/datetime columns\n",
      "****************************************************************************************************\n"
     ]
    }
   ],
   "source": [
    "df = cleanup_nulls(df)"
   ]
  },
  {
   "cell_type": "markdown",
   "metadata": {},
   "source": [
    "### Snippet Number 02 - End"
   ]
  }
 ],
 "metadata": {
  "kernelspec": {
   "display_name": "Python 3",
   "language": "python",
   "name": "python3"
  },
  "language_info": {
   "codemirror_mode": {
    "name": "ipython",
    "version": 3
   },
   "file_extension": ".py",
   "mimetype": "text/x-python",
   "name": "python",
   "nbconvert_exporter": "python",
   "pygments_lexer": "ipython3",
   "version": "3.7.4"
  },
  "toc": {
   "base_numbering": 1,
   "nav_menu": {},
   "number_sections": true,
   "sideBar": true,
   "skip_h1_title": false,
   "title_cell": "Table of Contents",
   "title_sidebar": "Contents",
   "toc_cell": false,
   "toc_position": {},
   "toc_section_display": true,
   "toc_window_display": true
  }
 },
 "nbformat": 4,
 "nbformat_minor": 2
}
